{
  "nbformat": 4,
  "nbformat_minor": 0,
  "metadata": {
    "colab": {
      "name": "CreateAugmentSplit.ipynb",
      "provenance": [],
      "authorship_tag": "ABX9TyNQ6knezMpzyHg0ufwm2Zck",
      "include_colab_link": true
    },
    "kernelspec": {
      "name": "python3",
      "display_name": "Python 3"
    }
  },
  "cells": [
    {
      "cell_type": "markdown",
      "metadata": {
        "id": "view-in-github",
        "colab_type": "text"
      },
      "source": [
        "<a href=\"https://colab.research.google.com/github/aasgreen/create-augment-split-xy-training/blob/master/CreateAugmentSplit.ipynb\" target=\"_parent\"><img src=\"https://colab.research.google.com/assets/colab-badge.svg\" alt=\"Open In Colab\"/></a>"
      ]
    },
    {
      "cell_type": "code",
      "metadata": {
        "id": "uyEkAw3AZKD2",
        "colab_type": "code",
        "colab": {}
      },
      "source": [
        ""
      ],
      "execution_count": null,
      "outputs": []
    },
    {
      "cell_type": "markdown",
      "metadata": {
        "id": "HSiwsbrBZK5a",
        "colab_type": "text"
      },
      "source": [
        "# Create, Augment, and Split New Training/Test Data for Defect Detection"
      ]
    },
    {
      "cell_type": "code",
      "metadata": {
        "id": "aiHyr4RSbhKJ",
        "colab_type": "code",
        "colab": {
          "base_uri": "https://localhost:8080/",
          "height": 36
        },
        "outputId": "37bf34c9-a57e-4cce-8e33-c0420ef4b18f"
      },
      "source": [
        "from google.colab import drive\n",
        "drive.mount('/content/drive')\n",
        "%mkdir /content/drive/My Drive/xy-generated-data"
      ],
      "execution_count": 1,
      "outputs": [
        {
          "output_type": "stream",
          "text": [
            "Mounted at /content/drive\n"
          ],
          "name": "stdout"
        }
      ]
    },
    {
      "cell_type": "code",
      "metadata": {
        "id": "jM_cd0n0hdar",
        "colab_type": "code",
        "colab": {}
      },
      "source": [
        "#%cd /content/drive/My Drive/xy-generated-data/create-augment-split-xy-training\n",
        "! git clone https://github.com/aasgreen/create-augment-split-xy-training.git\n",
        "#! git fetch origin master\n",
        "#! git reset --hard origin/master\n",
        "%cd create-augment-split-xy-training/"
      ],
      "execution_count": null,
      "outputs": []
    },
    {
      "cell_type": "code",
      "metadata": {
        "id": "xfyIKUpNcVEV",
        "colab_type": "code",
        "colab": {
          "base_uri": "https://localhost:8080/",
          "height": 36
        },
        "outputId": "15ee2c8f-0640-4545-a27a-b148e0aae644"
      },
      "source": [
        "%ls"
      ],
      "execution_count": null,
      "outputs": [
        {
          "output_type": "stream",
          "text": [
            "\u001b[0m\u001b[01;34mdata\u001b[0m/  \u001b[01;34mdev\u001b[0m/\n"
          ],
          "name": "stdout"
        }
      ]
    },
    {
      "cell_type": "code",
      "metadata": {
        "id": "a84jrzV4caGt",
        "colab_type": "code",
        "colab": {
          "base_uri": "https://localhost:8080/",
          "height": 36
        },
        "outputId": "02880490-2edb-449b-8572-411264dd746d"
      },
      "source": [
        "%cd dev/"
      ],
      "execution_count": null,
      "outputs": [
        {
          "output_type": "stream",
          "text": [
            "/content/drive/My Drive/xy-generated-data/create-augment-split-xy-training/dev\n"
          ],
          "name": "stdout"
        }
      ]
    },
    {
      "cell_type": "code",
      "metadata": {
        "id": "b_95XtBqccn0",
        "colab_type": "code",
        "colab": {
          "base_uri": "https://localhost:8080/",
          "height": 166
        },
        "outputId": "4ac8df99-daeb-4dfd-cf85-98941ef6b51a"
      },
      "source": [
        "%ls"
      ],
      "execution_count": null,
      "outputs": [
        {
          "output_type": "stream",
          "text": [
            " data_utils.py       \u001b[0m\u001b[01;32mlanganLib.cpython-36m-x86_64-linux-gnu.so\u001b[0m*\n",
            "'dCount - Copy.py'   langanLib.cpython-37m-x86_64-linux-gnu.so\n",
            " dCount.py           m1_class.pt\n",
            " dCount_reg.py       m2.pt\n",
            " format_log.sh       maskTemplate.yaml\n",
            " fpy.sh              \u001b[01;34m__pycache__\u001b[0m/\n",
            " genData.py          runNN.sh\n",
            " langan.f90          smartNoise.py\n"
          ],
          "name": "stdout"
        }
      ]
    },
    {
      "cell_type": "code",
      "metadata": {
        "id": "dY6hPv6Ccd9c",
        "colab_type": "code",
        "colab": {}
      },
      "source": [
        "! bash fpy.sh langanLib langan.f90"
      ],
      "execution_count": null,
      "outputs": []
    },
    {
      "cell_type": "code",
      "metadata": {
        "id": "cdIjj0SschnU",
        "colab_type": "code",
        "colab": {}
      },
      "source": [
        "import genData\n",
        "import data_utils"
      ],
      "execution_count": null,
      "outputs": []
    },
    {
      "cell_type": "code",
      "metadata": {
        "id": "BusDHJJpc2BF",
        "colab_type": "code",
        "colab": {
          "base_uri": "https://localhost:8080/",
          "height": 858
        },
        "outputId": "27aa9ea4-ea43-47d8-8f3f-423a8ee8e207"
      },
      "source": [
        "genData.thermal_noise_sequence(10) #number of base images to generate"
      ],
      "execution_count": 13,
      "outputs": [
        {
          "output_type": "stream",
          "text": [
            "submasks: ['gauss', 'grid', 'scans', 'speckle']\n",
            "gaussianing\n",
            "gridding\n",
            "scanning\n",
            "speckling\n",
            "1\n",
            "4\n",
            "24\n",
            "117\n",
            "-2.0\n",
            "-2.0\n",
            "-2.0\n",
            "-2.0\n",
            "-2.0\n",
            "-2.0\n",
            "-2.0\n",
            "-2.0\n",
            "-2.0\n",
            "-2.0\n",
            "-2.0\n",
            "-2.0\n",
            "-2.0\n",
            "-2.0\n",
            "-2.0\n",
            "-2.0\n",
            "1\n",
            "4\n",
            "24\n",
            "117\n",
            "-2.0\n",
            "-2.0\n",
            "-2.0\n",
            "-2.0\n",
            "-2.0\n",
            "-2.0\n",
            "-2.0\n",
            "-2.0\n",
            "-2.0\n",
            "-2.0\n",
            "-2.0\n",
            "-2.0\n",
            "-2.0\n",
            "-2.0\n",
            "-2.0\n",
            "-2.0\n"
          ],
          "name": "stdout"
        }
      ]
    },
    {
      "cell_type": "code",
      "metadata": {
        "id": "bfx7q0lfc7Q9",
        "colab_type": "code",
        "colab": {
          "base_uri": "https://localhost:8080/",
          "height": 316
        },
        "outputId": "0af73012-50ba-4d0b-9a98-a1c32446db35"
      },
      "source": [
        "\n",
        "%ls ../data/"
      ],
      "execution_count": 14,
      "outputs": [
        {
          "output_type": "stream",
          "text": [
            "2020-09-11_18-58-01-t_0.tiff        label_2020-09-11_18-58-01-t_11.dat\n",
            "2020-09-11_18-58-01-t_10.tiff       label_2020-09-11_18-58-01-t_12.dat\n",
            "2020-09-11_18-58-01-t_11.tiff       label_2020-09-11_18-58-01-t_13.dat\n",
            "2020-09-11_18-58-01-t_12.tiff       label_2020-09-11_18-58-01-t_14.dat\n",
            "2020-09-11_18-58-01-t_13.tiff       label_2020-09-11_18-58-01-t_1.dat\n",
            "2020-09-11_18-58-01-t_14.tiff       label_2020-09-11_18-58-01-t_2.dat\n",
            "2020-09-11_18-58-01-t_1.tiff        label_2020-09-11_18-58-01-t_3.dat\n",
            "2020-09-11_18-58-01-t_2.tiff        label_2020-09-11_18-58-01-t_4.dat\n",
            "2020-09-11_18-58-01-t_3.tiff        label_2020-09-11_18-58-01-t_5.dat\n",
            "2020-09-11_18-58-01-t_4.tiff        label_2020-09-11_18-58-01-t_6.dat\n",
            "2020-09-11_18-58-01-t_5.tiff        label_2020-09-11_18-58-01-t_8.dat\n",
            "2020-09-11_18-58-01-t_6.tiff        label_2020-09-11_18-58-01-t_9.dat\n",
            "2020-09-11_18-58-01-t_8.tiff        simData.yaml\n",
            "2020-09-11_18-58-01-t_9.tiff        \u001b[0m\u001b[01;34mtest_set\u001b[0m/\n",
            "label_2020-09-11_18-58-01-t_0.dat   \u001b[01;34mtrain_set\u001b[0m/\n",
            "label_2020-09-11_18-58-01-t_10.dat\n"
          ],
          "name": "stdout"
        }
      ]
    },
    {
      "cell_type": "code",
      "metadata": {
        "id": "Da4RosrmdPEN",
        "colab_type": "code",
        "colab": {
          "base_uri": "https://localhost:8080/",
          "height": 54
        },
        "outputId": "0e7151cc-6f17-4eb4-ced3-61f857c4b71c"
      },
      "source": [
        "data_utils.train_test_split('../data', '../data/')"
      ],
      "execution_count": 15,
      "outputs": [
        {
          "output_type": "stream",
          "text": [
            "directory ../data/test_set already exists!\n",
            "directory ../data/train_set already exists!\n"
          ],
          "name": "stdout"
        }
      ]
    },
    {
      "cell_type": "code",
      "metadata": {
        "id": "sHGd0EGzdglM",
        "colab_type": "code",
        "colab": {
          "base_uri": "https://localhost:8080/",
          "height": 36
        },
        "outputId": "892cd4f7-cebb-4f74-c382-f2c88754dd52"
      },
      "source": [
        "%ls ../data/"
      ],
      "execution_count": 16,
      "outputs": [
        {
          "output_type": "stream",
          "text": [
            "simData.yaml  \u001b[0m\u001b[01;34mtest_set\u001b[0m/  \u001b[01;34mtrain_set\u001b[0m/\n"
          ],
          "name": "stdout"
        }
      ]
    },
    {
      "cell_type": "code",
      "metadata": {
        "id": "dUJKbIO4iTL3",
        "colab_type": "code",
        "colab": {
          "base_uri": "https://localhost:8080/",
          "height": 73
        },
        "outputId": "43ead081-e944-4042-8b7d-9379253a415a"
      },
      "source": [
        "%ls ../data/test_set/"
      ],
      "execution_count": 17,
      "outputs": [
        {
          "output_type": "stream",
          "text": [
            "2020-09-11_18-58-01-t_11.tiff  label_2020-09-11_18-58-01-t_11.dat\n",
            "2020-09-11_18-58-01-t_8.tiff   label_2020-09-11_18-58-01-t_8.dat\n",
            "2020-09-11_18-58-01-t_9.tiff   label_2020-09-11_18-58-01-t_9.dat\n"
          ],
          "name": "stdout"
        }
      ]
    },
    {
      "cell_type": "code",
      "metadata": {
        "id": "ELhk2ks9iVq2",
        "colab_type": "code",
        "colab": {}
      },
      "source": [
        ""
      ],
      "execution_count": null,
      "outputs": []
    }
  ]
}